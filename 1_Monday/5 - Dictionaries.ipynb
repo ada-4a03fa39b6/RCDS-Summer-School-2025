{
 "cells": [
  {
   "attachments": {},
   "cell_type": "markdown",
   "metadata": {},
   "source": [
    "# Dictionaries\n",
    "\n",
    "Dictionaries are used to store values associated with a key, which can be of any hashable type, including strings, integers, and floats. Values in dictionaries can be of any type. Dictionaries can be very useful for storing data that does not naturally fall into a list-type structure."
   ]
  },
  {
   "cell_type": "markdown",
   "metadata": {},
   "source": [
    "## Creating a Dictionary\n",
    "\n",
    "To create a dictionary, we use curly braces ```{}```. If these braces are empty, the dictionary will be empty. We can also provide a series of key-value pairs, separated by commas. The key and value are separated by a colon. For example:"
   ]
  },
  {
   "cell_type": "code",
   "execution_count": 2,
   "metadata": {},
   "outputs": [
    {
     "name": "stdout",
     "output_type": "stream",
     "text": [
      "{}\n",
      "{'melons': 5, 'peaches': 4}\n"
     ]
    }
   ],
   "source": [
    "empty_dict = {} # Create an empty dictionary\n",
    "fruity_dict = {\"melons\": 5, \"peaches\": 4} # Create a dictionary with two key-value pairs\n",
    "\n",
    "print(empty_dict)\n",
    "print(fruity_dict) # When printing a dictioanry, key-value pairs are separated by commas\n",
    "# Each key-value pair is represented as the key for followed by a colon and then the value"
   ]
  },
  {
   "cell_type": "markdown",
   "metadata": {},
   "source": [
    "## Accessing Values from a Dictionary\n",
    "\n",
    "We can access individual values of the dictionary by using the key in square brackets ```[]```. Just like values from a list, we can use these values as part of an expression. For example:"
   ]
  },
  {
   "cell_type": "code",
   "execution_count": 4,
   "metadata": {},
   "outputs": [
    {
     "name": "stdout",
     "output_type": "stream",
     "text": [
      "5\n",
      "9\n"
     ]
    }
   ],
   "source": [
    "print(fruity_dict[\"melons\"]) # Access a value by using its key\n",
    "b = fruity_dict[\"peaches\"] + 5 # You can use a value in an expression\n",
    "print(b)"
   ]
  },
  {
   "cell_type": "markdown",
   "metadata": {},
   "source": [
    "If we try to access a value using a key not in a dictionary, a KeyError exception will be raised."
   ]
  },
  {
   "cell_type": "code",
   "execution_count": null,
   "metadata": {},
   "outputs": [],
   "source": []
  },
  {
   "cell_type": "code",
   "execution_count": 5,
   "metadata": {},
   "outputs": [
    {
     "ename": "KeyError",
     "evalue": "'plums'",
     "output_type": "error",
     "traceback": [
      "\u001b[31m---------------------------------------------------------------------------\u001b[39m",
      "\u001b[31mKeyError\u001b[39m                                  Traceback (most recent call last)",
      "\u001b[36mCell\u001b[39m\u001b[36m \u001b[39m\u001b[32mIn[5]\u001b[39m\u001b[32m, line 1\u001b[39m\n\u001b[32m----> \u001b[39m\u001b[32m1\u001b[39m \u001b[38;5;28mprint\u001b[39m(\u001b[43mfruity_dict\u001b[49m\u001b[43m[\u001b[49m\u001b[33;43m\"\u001b[39;49m\u001b[33;43mplums\u001b[39;49m\u001b[33;43m\"\u001b[39;49m\u001b[43m]\u001b[49m)\n",
      "\u001b[31mKeyError\u001b[39m: 'plums'"
     ]
    }
   ],
   "source": [
    "print(fruity_dict[\"plums\"])"
   ]
  },
  {
   "cell_type": "markdown",
   "metadata": {},
   "source": [
    "## Updating a Dictionary\n",
    "\n",
    "We can add new key-value pairs or update the value of existing key-value pairs by writing the name of the dictionary, followed by the key in square brackets, followed by an equals sign and the new value. For example:"
   ]
  },
  {
   "cell_type": "code",
   "execution_count": 6,
   "metadata": {},
   "outputs": [
    {
     "name": "stdout",
     "output_type": "stream",
     "text": [
      "{'melons': 5, 'peaches': 6, 'bananas': 2}\n"
     ]
    }
   ],
   "source": [
    "fruity_dict[\"bananas\"] = 2 # Add a new key-value pair to a dictionary\n",
    "fruity_dict[\"peaches\"] = 6 # Change the value associated with an existing key\n",
    "print(fruity_dict)"
   ]
  },
  {
   "cell_type": "markdown",
   "metadata": {},
   "source": [
    "We can delete a key-value pair from a dictionary using the ```del``` keyword."
   ]
  },
  {
   "cell_type": "code",
   "execution_count": 7,
   "metadata": {},
   "outputs": [
    {
     "name": "stdout",
     "output_type": "stream",
     "text": [
      "{'peaches': 6, 'bananas': 2}\n"
     ]
    }
   ],
   "source": [
    "del fruity_dict[\"melons\"] # Delete a key-value pair from a dictionary\n",
    "print(fruity_dict)"
   ]
  },
  {
   "cell_type": "markdown",
   "metadata": {},
   "source": [
    "## Looping over a Dictionary\n",
    "\n",
    "We can loop over the keys or values of a dictionary."
   ]
  },
  {
   "cell_type": "code",
   "execution_count": 8,
   "metadata": {},
   "outputs": [
    {
     "name": "stdout",
     "output_type": "stream",
     "text": [
      "peaches\n",
      "bananas\n",
      "6\n",
      "2\n"
     ]
    }
   ],
   "source": [
    "for x in fruity_dict: # Looping over a dictionary gives the keys\n",
    "    print(x)\n",
    "\n",
    "for x in fruity_dict.values(): # To loop over the values, we need the \"values\" method\n",
    "    print(x)"
   ]
  },
  {
   "cell_type": "markdown",
   "metadata": {},
   "source": [
    "We can also loop over the keys and values of a dictionary at the same time using the ```items()``` method."
   ]
  },
  {
   "cell_type": "code",
   "execution_count": 9,
   "metadata": {},
   "outputs": [
    {
     "name": "stdout",
     "output_type": "stream",
     "text": [
      "There are 6 peaches\n",
      "There are 2 bananas\n"
     ]
    }
   ],
   "source": [
    "for fruit, number in fruity_dict.items(): # To loop over both keys and values, we need the \"items\" method\n",
    "    print(f\"There are {number} {fruit}\")"
   ]
  },
  {
   "cell_type": "markdown",
   "metadata": {},
   "source": [
    "## Order of Dictionaries\n",
    "\n",
    "Note that, for earlier versions of Python, the order of the keys may not be the same as the order in which they were added to the dictionary. This is because dictionaries are implemented using hash tables, which are not ordered. In Python 3.6 and later, dictionaries are ordered, so the order of the keys will be the same as the order in which they were added to the dictionary. However, relying on the \"order\" of a dictionary is not normally good practice as it can make your code less portable and tends to encourage design patterns which do not use dictionaries in the best way."
   ]
  },
  {
   "cell_type": "markdown",
   "metadata": {},
   "source": [
    "## Exercise: Counting Bases\n",
    "\n",
    "In genetics, DNA can be represented as a string of the characters representing the four bases: adenine (A), cytosine (C), guanine (G), and thymine (T). For example, the DNA sequence ```ATGCGATACGCTTGA``` has 5 adenine bases, 4 cytosine bases, 2 guanine bases, and 5 thymine bases. Knowing the number of each of these bases present in a DNA sequence can be useful for some types of genetic analysis.\n",
    "\n",
    "In the code cell below write a function named ```base_counter``` which accepts a single string as an argument representing a genetic sequence, and returns a dictionary with the number of each base in the string. If a base doesn't appear in the genetic sequence, a key-value pair representing it should still be present in the dictionary, with a value of 0.\n",
    "\n",
    "You may assume the argument provided will always be a string consisting only of the characters A, C, G, and T. \n",
    "\n",
    "Avoid using the ```count``` method of the string class to begin with. Once you have a solution which works, see if you can make it any simpler by using this method.\n",
    "\n",
    "The code cell below also contains a number of calls, you can check your function works appropriately."
   ]
  },
  {
   "cell_type": "code",
   "execution_count": 38,
   "metadata": {},
   "outputs": [
    {
     "name": "stdout",
     "output_type": "stream",
     "text": [
      "{'A': 0, 'C': 0, 'G': 0, 'T': 0}\n",
      "{'A': 1, 'C': 1, 'G': 1, 'T': 1}\n",
      "{'A': 2, 'C': 2, 'G': 2, 'T': 2}\n",
      "{'A': 3, 'C': 1, 'G': 1, 'T': 2}\n"
     ]
    }
   ],
   "source": [
    "# Write your code here\n",
    "def base_counter(seq):\n",
    "    bases = {'A': 0, \"C\": 0, \"G\": 0, \"T\": 0}\n",
    "\n",
    "    for char in seq:\n",
    "        if char == \"A\":\n",
    "            bases[\"A\"] += 1\n",
    "        elif char == \"C\":\n",
    "            bases[\"C\"] += 1\n",
    "        elif char == \"G\":\n",
    "            bases[\"G\"] += 1\n",
    "        elif char == \"T\":\n",
    "            bases[\"T\"] += 1\n",
    "\n",
    "    return bases\n",
    "\n",
    "\n",
    "\n",
    "\n",
    "\n",
    "# Some tests\n",
    "print(base_counter(\"\")) # Should print {'A': 0, 'C': 0, 'G': 0, 'T': 0}\n",
    "print(base_counter(\"ACGT\")) # Should print {'A': 1, 'C': 1, 'G': 1, 'T': 1}\n",
    "print(base_counter(\"TGCAACGT\")) # Should print {'A': 2, 'C': 2, 'G': 2, 'T': 2}\n",
    "print(base_counter(\"GATTACA\")) # Should print {'A': 3, 'C': 1, 'G': 1, 'T': 2}"
   ]
  },
  {
   "cell_type": "markdown",
   "metadata": {},
   "source": [
    "A sample solution can be found in the file [```Sample Solutions/Sample Solutions 5 - Dictionaries.ipynb```](Sample%20Solutions/Sample%20Solutions%205%20-%20Dictionaries.ipynb)."
   ]
  },
  {
   "cell_type": "markdown",
   "metadata": {},
   "source": [
    "## Exercise: Read a FASTA File\n",
    "\n",
    "Biological sequences such as DNA and protein are often stored in a simple text format known as a [FASTA file](https://en.wikipedia.org/wiki/FASTA_format). \n",
    "\n",
    "The file [`aroK.fasta`](Data/aroK.fasta) contains the DNA sequence for one gene from the bacterium *Escherichia coli*.\n",
    "\n",
    "Complete the code below to read in this file and print out the complete DNA sequence. You will probably want to look back at the Strings notebook for some useful methods."
   ]
  },
  {
   "cell_type": "code",
   "execution_count": 56,
   "metadata": {},
   "outputs": [
    {
     "name": "stdout",
     "output_type": "stream",
     "text": [
      ">M76389.1:1791-2225 E.coli shikimic acid kinase I (aroK) gene, complete cds\n",
      "\n",
      "ATGAGGTTTCAGTTCATGTCCTGCCGGGCCTCTCTGAGCGAAGCGGGTTTATCATTAACGAATAGTCTTAGTAGTACCGAAAAAATGGCAGAGAAACGCAATATCTTTCTGGTTGGGCCTATGGGTGCCGGAAAAAGCACTATTGGGCGCCAGTTAGCTCAACAACTCAATATGGAATTTTACGATTCCGATCAAGAGATTGAGAAACGAACCGGAGCTGATGTGGGCTGGGTTTTCGATTTAGAAGGCGAAGAAGGCTTCCGCGATCGCGAAGAAAAGGTCATCAATGAGTTGACCGAGAAACAGGGTATTGTGCTGGCTACTGGCGGCGGCTCTGTGAAATCCCGTGAAACGCGTAACCGTCTTTCCGCTCGTGCGTTGTCGTTTATCTTGAAACGACCATCGAAAAGCAACTTGCACGCACGCAGCGGATAA\n"
     ]
    }
   ],
   "source": [
    "PATH_TO_FILE = \"Data/aroK.fasta\"\n",
    "\n",
    "# a variable to store the DNA string\n",
    "dna = \"\"\n",
    "\n",
    "with open(PATH_TO_FILE) as file:\n",
    "    # read the first line and print it to the screen.\n",
    "    print(file.readline())  \n",
    "\n",
    "    # TODO: read in the DNA line by line\n",
    "\n",
    "    for line in file:\n",
    "        dna += line.strip()\n",
    "    dna = dna.strip()\n",
    "    \n",
    "# TODO: print out the DNA\n",
    "print(dna)"
   ]
  },
  {
   "cell_type": "markdown",
   "metadata": {},
   "source": [
    "What is the [GC content](https://en.wikipedia.org/wiki/GC-content) (percentage of the DNA that is G or C) of this gene?\n",
    "\n",
    "Can you write a function to calculate the GC content of any DNA sequence provided?"
   ]
  },
  {
   "cell_type": "code",
   "execution_count": 65,
   "metadata": {},
   "outputs": [
    {
     "data": {
      "text/plain": [
       "0.48735632183908045"
      ]
     },
     "execution_count": 65,
     "metadata": {},
     "output_type": "execute_result"
    }
   ],
   "source": [
    "# Write your code here\n",
    "def gc_content(seq):\n",
    "    bases = base_counter(seq)\n",
    "\n",
    "    #return (bases[\"G\"]+bases[\"C\"])/(bases[\"A\"] + bases[\"C\"] + bases[\"G\"] + bases[\"T\"])\n",
    "    return (bases[\"G\"]+bases[\"C\"])/len(seq)\n",
    "\n",
    "\n",
    "gc_content(dna)"
   ]
  },
  {
   "cell_type": "markdown",
   "metadata": {},
   "source": [
    "## Extension: Translating from DNA to Protein\n",
    "\n",
    "To find the [amino acid](https://en.wikipedia.org/wiki/Amino_acid) sequence for the protein that this gene encodes, there are two steps:\n",
    "\n",
    "1. Chop the DNA sequence into a list of [codons](https://rosalind.info/glossary/codon/), where each codon is 3 consecutive nucleotides.\n",
    "\n",
    "2. Translate each codon into its corresponding amino acid. *E. coli* uses this translation table: [`codon_table_11.txt`](Data/codon_table_11.txt)"
   ]
  },
  {
   "cell_type": "code",
   "execution_count": 64,
   "metadata": {},
   "outputs": [
    {
     "name": "stdout",
     "output_type": "stream",
     "text": [
      "['M', 'R', 'F', 'Q', 'F', 'M', 'S', 'C', 'R', 'A', 'S', 'L', 'S', 'E', 'A', 'G', 'L', 'S', 'L', 'T', 'N', 'S', 'L', 'S', 'S', 'T', 'E', 'K', 'M', 'A', 'E', 'K', 'R', 'N', 'I', 'F', 'L', 'V', 'G', 'P', 'M', 'G', 'A', 'G', 'K', 'S', 'T', 'I', 'G', 'R', 'Q', 'L', 'A', 'Q', 'Q', 'L', 'N', 'M', 'E', 'F', 'Y', 'D', 'S', 'D', 'Q', 'E', 'I', 'E', 'K', 'R', 'T', 'G', 'A', 'D', 'V', 'G', 'W', 'V', 'F', 'D', 'L', 'E', 'G', 'E', 'E', 'G', 'F', 'R', 'D', 'R', 'E', 'E', 'K', 'V', 'I', 'N', 'E', 'L', 'T', 'E', 'K', 'Q', 'G', 'I', 'V', 'L', 'A', 'T', 'G', 'G', 'G', 'S', 'V', 'K', 'S', 'R', 'E', 'T', 'R', 'N', 'R', 'L', 'S', 'A', 'R', 'A', 'L', 'S', 'F', 'I', 'L', 'K', 'R', 'P', 'S', 'K', 'S', 'N', 'L', 'H', 'A', 'R', 'S', 'G', '*']\n"
     ]
    }
   ],
   "source": [
    "# Write your code here\n",
    "condons = []\n",
    "for i in range(0,len(dna),3):\n",
    "    condons.append(dna[i:i+3])\n",
    "\n",
    "PATH_TO_FILE = \"Data/codon_table_11.txt\"\n",
    "\n",
    "condon_table = {}\n",
    "\n",
    "with open(PATH_TO_FILE) as file:\n",
    "    for line in file:\n",
    "        words = line.split()\n",
    "        condon_table[words[0]] = words[1]\n",
    "\n",
    "protein = []\n",
    "for value in condons:\n",
    "    protein.append(condon_table[value])\n",
    "\n",
    "print(protein)"
   ]
  },
  {
   "cell_type": "markdown",
   "metadata": {},
   "source": [
    "Finally, save your translated protein as a FASTA file."
   ]
  },
  {
   "cell_type": "code",
   "execution_count": 63,
   "metadata": {},
   "outputs": [],
   "source": [
    "# Write your code here\n",
    "PATH_TO_SAVE = \"Data/protein.fasta\"\n",
    "\n",
    "with open(PATH_TO_SAVE, \"w\") as file:\n",
    "    file.write(\"\".join(protein))\n"
   ]
  },
  {
   "cell_type": "markdown",
   "metadata": {},
   "source": []
  }
 ],
 "metadata": {
  "kernelspec": {
   "display_name": ".venv",
   "language": "python",
   "name": "python3"
  },
  "language_info": {
   "codemirror_mode": {
    "name": "ipython",
    "version": 3
   },
   "file_extension": ".py",
   "mimetype": "text/x-python",
   "name": "python",
   "nbconvert_exporter": "python",
   "pygments_lexer": "ipython3",
   "version": "3.13.0"
  },
  "orig_nbformat": 4
 },
 "nbformat": 4,
 "nbformat_minor": 2
}
