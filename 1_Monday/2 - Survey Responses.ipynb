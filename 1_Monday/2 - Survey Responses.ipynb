{
 "cells": [
  {
   "cell_type": "markdown",
   "metadata": {},
   "source": [
    "# Counting Survey Responses\n",
    "\n",
    "Data comes in all shapes and sizes. Extracting useful insights from data often involves preparation and *cleaning*. Usually, data is not directly available in our Python code, instead being stored in other files or databases. One common filetype for storing data is called **JSON** (Javascript Object Notation). Python comes with built-in libraries for reading these `.json` files, which we can use to further analyse the data therein.\n",
    "\n",
    "Let's say a colleague recently undertook a survey on Generative AI chatbot use by students in their department. The survey software they used asked the following question and invited responses via the multi-checkbox seen in the image below:\n",
    "\n",
    "<center><img src=\"../Resources/survey_checkbox.png\" style=\"height:300px\" /></center>\n",
    "\n",
    "The survey software captured fifty responses in total and the researcher exported the survey data to a JSON file. A short snippet of the JSON output can be seen in the image below.\n",
    "\n",
    "<center><img src=\"../Resources/survey_responses.png\" style=\"height:300px\" /></center>\n",
    "\n",
    "Each response is captured as a list, so:\n",
    "\n",
    "- The first respondent selected **ChatGPT and Claude**\n",
    "- The second selected only **ChatGPT**\n",
    "- The third selected **Claude, Gemini and ChatGPT**\n",
    "\n",
    "It could be argued that this was not the best way to capture data for further analysis, but unfortunately, we have to work with what we have. The researcher would like to determine **how many of the respondents are using ChatGPT**.\n",
    "\n",
    "In this exercise, you will write code to load and clean the data, and answer the researcher's question.\n",
    "\n",
    "**The data for this exercise is `survey_responses.json`, located in the `Data` directory within `1_Monday` directory.**"
   ]
  },
  {
   "cell_type": "markdown",
   "metadata": {},
   "source": [
    "## Breaking the task down to steps\n",
    "\n",
    "When planning to tackle a task—large or small—it is a good idea to first outline the structure of the code (without actually coding). At this stage we might think about how best to approach the problem, and think about breaking it down into smaller problems.\n",
    "\n",
    "This notebook divides the development process into three tasks. Each task description includes the necessary information to proceed with the coding. This is an example approach to tackling this problem.\n",
    "\n",
    "**Task 1** - Load the data from the JSON file into a Python data structure.\n",
    "\n",
    "**Task 2** - Clean the data to prepare it for analysis.\n",
    "\n",
    "**Task 3** - Analyse the cleaned data to determine the most selected tool."
   ]
  },
  {
   "cell_type": "markdown",
   "metadata": {},
   "source": [
    "## Task 1 - Data Loading\n",
    "\n",
    "* The first step to load data is to determine where our data is located. In this exercise, we were told above:\n",
    "\n",
    "    > **The data for this exercise is `survey_responses.json`, located in the `Data` directory within the `1_Monday` directory.**\n",
    "\n",
    "    Using the *Explorer* in the left sidebar, see if you can find the `survey_responses.json` file now.\n",
    "\n",
    "    Did you find it? Notice the `Data` directory is located in the same directory as the Notebook we are currently working in. Because of this, we would say, that *relative* to this Notebook, the file we are interested in loading is located in a directory called `Data`. To indicate that we are looking into a directory, we use a forward slash `/` - **note** that this is true for the Codespace and MacOS, but know that Windows machines usually use a backslash!.\n",
    "\n",
    "    With this in mind, we can write out the *relative path* to the file we are interested in. We might create a *constant* to store the path - by convention, we use all uppercase lettering to define constants.\n",
    "\n",
    "    ```python\n",
    "    PATH_TO_FILE = \"Data/survey_repsonses.json\"\n",
    "    ```\n",
    "\n",
    "* Once we know the path to our file, we can load the file into Python. The most common way to do this is using the `with` statement and the `open` function (which come together into a *context manager*). The `as` clause of the `with` statement stores the file object into a temporary variable (here called `file`), but only until the end of the indented block.\n",
    "\n",
    "    ```python\n",
    "    with open(PATH_TO_FILE) as file:\n",
    "        print(file) # for example, or do something else with the file\n",
    "    ```\n",
    "\n",
    "* Once we know how to load the file into Python, let's consider how to read the JSON content within. For this, Python includes a *builtin* library called `json`. To use the library, we would first have to import it into our Notebook.\n",
    "\n",
    "    ```python\n",
    "    import json\n",
    "    ```\n",
    "\n",
    "    Then we can use the `load` function of the library to read JSON data into a variable.\n",
    "\n",
    "    ```python\n",
    "    json.load(file)\n",
    "    ```"
   ]
  },
  {
   "cell_type": "markdown",
   "metadata": {},
   "source": [
    "### Coding\n",
    "\n",
    "Can you bring together the approaches above to load the content of a JSON file into a Python variable?\n",
    "\n",
    "Write your code in the cell below:"
   ]
  },
  {
   "cell_type": "code",
   "execution_count": null,
   "metadata": {},
   "outputs": [
    {
     "name": "stdout",
     "output_type": "stream",
     "text": [
      "[['ChatGPT', 'Claude'], ['ChatGPT'], ['Claude', 'Gemini', 'ChatGPT'], ['Copilot', 'ChatGPT'], ['ChatGPT', 'Grok'], ['Claude', 'ChatGPT', 'Gemini', 'Copilot'], ['Gemini'], ['ChatGPT', 'Claude', 'Copilot'], ['Claude', 'Grok'], ['ChatGPT', 'Gemini'], ['Copilot'], ['ChatGPT', 'Claude', 'Gemini', 'Copilot', 'Grok'], ['Claude', 'ChatGPT'], ['Gemini', 'Grok'], ['ChatGPT'], ['Claude', 'Copilot', 'Gemini'], ['ChatGPT', 'Grok'], ['Claude'], ['ChatGPT', 'Copilot'], ['Gemini', 'ChatGPT'], ['Claude', 'Grok', 'Gemini'], ['ChatGPT', 'Copilot', 'Claude'], ['Grok'], ['ChatGPT', 'Gemini', 'Grok'], ['Claude', 'Copilot'], ['ChatGPT'], ['Gemini', 'Claude', 'ChatGPT', 'Grok'], ['Copilot', 'Grok'], ['ChatGPT', 'Claude', 'Gemini'], ['Claude', 'Copilot', 'Grok'], ['ChatGPT', 'Gemini'], ['Grok', 'Claude'], ['ChatGPT', 'Copilot', 'Gemini', 'Grok'], ['Claude'], ['ChatGPT', 'Grok', 'Copilot'], ['Gemini', 'Claude'], ['ChatGPT'], ['Claude', 'Gemini', 'Grok', 'Copilot'], ['ChatGPT', 'Claude'], ['Copilot', 'Gemini'], ['ChatGPT', 'Grok'], ['Claude', 'ChatGPT', 'Copilot'], ['Gemini'], ['ChatGPT', 'Claude', 'Gemini', 'Grok'], ['Copilot'], ['ChatGPT', 'Gemini', 'Claude'], ['Grok', 'Copilot', 'Claude'], ['ChatGPT'], ['Claude', 'Gemini'], ['ChatGPT', 'Copilot', 'Grok', 'Claude', 'Gemini']]\n"
     ]
    }
   ],
   "source": [
    "import json\n",
    "\n",
    "PATH_TO_FILE = \"Data/survey_responses.json\"\n",
    "\n",
    "with open(PATH_TO_FILE) as file:\n",
    "    survey_responses = json.load(file)\n",
    "\n",
    "print(survey_responses)"
   ]
  },
  {
   "cell_type": "markdown",
   "metadata": {},
   "source": [
    "Check your work - if your print the new variable you've created, the output should look similar to this:\n",
    "\n",
    "```bash\n",
    "[['ChatGPT', 'Claude'], ['ChatGPT'], ['Claude', 'Gemini', 'ChatGPT'], ['Copilot', 'ChatGPT'], ...\n",
    "```\n",
    "\n",
    "For each of the exercises in this notebook, sample solutions can be found in [```Sample Solutions/Sample Solutions 2 - Survey Responses.ipynb```](Sample%20Solutions/Sample%20Solutions%202%20-%20Survey%20Responses.ipynb)."
   ]
  },
  {
   "cell_type": "markdown",
   "metadata": {},
   "source": [
    "## Task 2 - Data Cleaning\n",
    "\n",
    "Notice that the data you have loaded is a list, which itself contains other lists. You could write code to start counting the `\"ChatGPT\"` elements within each *inner* list, but this would add additional complexity. A better approach might be to *flatten* the current structure into a single list before starting to count."
   ]
  },
  {
   "cell_type": "markdown",
   "metadata": {},
   "source": [
    "### Coding\n",
    "\n",
    "Using loops and lists, can you create a new flat list which contains all the elements of the *inner* lists as individual elements? Use the code cell below."
   ]
  },
  {
   "cell_type": "code",
   "execution_count": null,
   "metadata": {},
   "outputs": [
    {
     "name": "stdout",
     "output_type": "stream",
     "text": [
      "['ChatGPT', 'Claude', 'ChatGPT', 'Claude', 'Gemini', 'ChatGPT', 'Copilot', 'ChatGPT', 'ChatGPT', 'Grok', 'Claude', 'ChatGPT', 'Gemini', 'Copilot', 'Gemini', 'ChatGPT', 'Claude', 'Copilot', 'Claude', 'Grok', 'ChatGPT', 'Gemini', 'Copilot', 'ChatGPT', 'Claude', 'Gemini', 'Copilot', 'Grok', 'Claude', 'ChatGPT', 'Gemini', 'Grok', 'ChatGPT', 'Claude', 'Copilot', 'Gemini', 'ChatGPT', 'Grok', 'Claude', 'ChatGPT', 'Copilot', 'Gemini', 'ChatGPT', 'Claude', 'Grok', 'Gemini', 'ChatGPT', 'Copilot', 'Claude', 'Grok', 'ChatGPT', 'Gemini', 'Grok', 'Claude', 'Copilot', 'ChatGPT', 'Gemini', 'Claude', 'ChatGPT', 'Grok', 'Copilot', 'Grok', 'ChatGPT', 'Claude', 'Gemini', 'Claude', 'Copilot', 'Grok', 'ChatGPT', 'Gemini', 'Grok', 'Claude', 'ChatGPT', 'Copilot', 'Gemini', 'Grok', 'Claude', 'ChatGPT', 'Grok', 'Copilot', 'Gemini', 'Claude', 'ChatGPT', 'Claude', 'Gemini', 'Grok', 'Copilot', 'ChatGPT', 'Claude', 'Copilot', 'Gemini', 'ChatGPT', 'Grok', 'Claude', 'ChatGPT', 'Copilot', 'Gemini', 'ChatGPT', 'Claude', 'Gemini', 'Grok', 'Copilot', 'ChatGPT', 'Gemini', 'Claude', 'Grok', 'Copilot', 'Claude', 'ChatGPT', 'Claude', 'Gemini', 'ChatGPT', 'Copilot', 'Grok', 'Claude', 'Gemini']\n"
     ]
    }
   ],
   "source": [
    "flatten_survey = []\n",
    "for mini_list in survey_responses:\n",
    "    for response in mini_list:\n",
    "        flatten_survey.append(response)\n",
    "\n",
    "print(flatten_survey)"
   ]
  },
  {
   "cell_type": "markdown",
   "metadata": {},
   "source": [
    "## Task 3 - Data Analysis\n",
    "\n",
    "Now that we have clean data, we can more easily answer our researcher's question:\n",
    "\n",
    "- How many of the respondents are using ChatGPT?"
   ]
  },
  {
   "cell_type": "markdown",
   "metadata": {},
   "source": [
    "### Coding\n",
    "\n",
    "Using the *accumulator pattern*, can you answer the researcher's question?"
   ]
  },
  {
   "cell_type": "code",
   "execution_count": null,
   "metadata": {},
   "outputs": [
    {
     "name": "stdout",
     "output_type": "stream",
     "text": [
      "30\n"
     ]
    }
   ],
   "source": [
    "count = 0\n",
    "for response in flatten_survey:\n",
    "    if response == 'ChatGPT':\n",
    "        count += 1\n",
    "\n",
    "print(count)"
   ]
  },
  {
   "cell_type": "markdown",
   "metadata": {},
   "source": [
    "## Task 4 - Reusability\n",
    "\n",
    "Great! We've answered the question. The code above works well to count the number of appearances of **ChatGPT** in the survey responses. But what if our researcher wants to check the number of student respondents that used **Claude**?\n",
    "\n",
    "What feature of Python could you use to make your code above reusable? "
   ]
  },
  {
   "cell_type": "markdown",
   "metadata": {},
   "source": [
    "### Coding\n",
    "\n",
    "Use the code cell below to code up a function that could be used to count the occurrences of any model in any list."
   ]
  },
  {
   "cell_type": "code",
   "execution_count": null,
   "metadata": {},
   "outputs": [
    {
     "name": "stdout",
     "output_type": "stream",
     "text": [
      "30\n",
      "26\n"
     ]
    }
   ],
   "source": [
    "def count_response(name, list):\n",
    "    count = 0\n",
    "    for response in list:\n",
    "        if response == name:\n",
    "            count += 1\n",
    "    return count\n",
    "\n",
    "print(count_response(\"ChatGPT\", flatten_survey))\n",
    "print(count_response(\"Claude\", flatten_survey))"
   ]
  },
  {
   "cell_type": "markdown",
   "metadata": {},
   "source": [
    "## Extension - Counts Challenge\n",
    "\n",
    "Now our researcher wants to know **how many respondents** selected **each number of options**. How many respondents chose 0, 1, 2, 3, 4, and 5 options?\n",
    "\n",
    "For example, consider the responses below.\n",
    "```bash\n",
    "[['ChatGPT', 'Claude'], ['ChatGPT'], ['Claude', 'Gemini', 'ChatGPT'], ['Copilot', 'ChatGPT'], ...\n",
    "```\n",
    "In this example, the *option counts* are:\n",
    "\n",
    "```plain\n",
    "0 options: 0\n",
    "1 options: 1\n",
    "2 options: 2\n",
    "3 options: 1\n",
    "```\n",
    "\n",
    "Looking at the original dataset, determine and display all the *option counts*.\n"
   ]
  },
  {
   "cell_type": "markdown",
   "metadata": {},
   "source": [
    "### Coding\n",
    "\n",
    "Use the code cell below to answer the question."
   ]
  },
  {
   "cell_type": "code",
   "execution_count": null,
   "metadata": {},
   "outputs": [
    {
     "name": "stdout",
     "output_type": "stream",
     "text": [
      "0 options:  0\n",
      "1 options:  12\n",
      "2 options:  19\n",
      "3 options:  12\n",
      "4 options:  5\n",
      "5 options:  2\n"
     ]
    }
   ],
   "source": [
    "options = [0, 0, 0, 0, 0, 0]\n",
    "for mini_list in survey_responses:\n",
    "    if len(mini_list) == 0:\n",
    "        options[0] += 1\n",
    "    elif len(mini_list) == 1:\n",
    "        options[1] += 1\n",
    "    elif len(mini_list) == 2:\n",
    "        options[2] += 1\n",
    "    elif len(mini_list) == 3:\n",
    "        options[3] += 1\n",
    "    elif len(mini_list) == 4:\n",
    "        options[4] += 1\n",
    "    else:\n",
    "        options[5] += 1\n",
    "        \n",
    "print(\"0 options: \", options[0])\n",
    "print(\"1 options: \", options[1])\n",
    "print(\"2 options: \", options[2])\n",
    "print(\"3 options: \", options[3])\n",
    "print(\"4 options: \", options[4])\n",
    "print(\"5 options: \", options[5])"
   ]
  },
  {
   "cell_type": "markdown",
   "metadata": {},
   "source": [
    "## Extension - Pairs Challenge\n",
    "\n",
    "Finally, our researcher wants to know which tools are often **selected together** in the a response.\n",
    "\n",
    "For example, consider the responses below.\n",
    "```bash\n",
    "[['ChatGPT', 'Claude'], ['ChatGPT'], ['Claude', 'Gemini', 'ChatGPT'], ['Copilot', 'ChatGPT'], ...\n",
    "```\n",
    "In this example, the *pair counts* are:\n",
    "\n",
    "```plain\n",
    "(ChatGPT, Claude): 2\n",
    "(ChatGPT, Gemini): 1\n",
    "(ChatGPT, Copilot): 1\n",
    "```\n",
    "\n",
    "Looking at the original dataset, which **pairs of tools** appear together most frequently? Consider displaying all the *pair counts* to show this."
   ]
  },
  {
   "cell_type": "markdown",
   "metadata": {},
   "source": [
    "### Coding\n",
    "\n",
    "Use the code cell below to answer the question."
   ]
  },
  {
   "cell_type": "code",
   "execution_count": 40,
   "metadata": {},
   "outputs": [
    {
     "name": "stdout",
     "output_type": "stream",
     "text": [
      "ChatGPT and Claude appeared together 14 times\n",
      "ChatGPT and Copilot appeared together 10 times\n",
      "ChatGPT and Gemini appeared together 13 times\n",
      "ChatGPT and Grok appeared together 10 times\n",
      "Claude and Copilot appeared together 11 times\n",
      "Claude and Gemini appeared together 13 times\n",
      "Claude and Grok appeared together 10 times\n",
      "Copilot and Gemini appeared together 7 times\n",
      "Copilot and Grok appeared together 8 times\n",
      "Gemini and Grok appeared together 9 times\n"
     ]
    }
   ],
   "source": [
    "def count_pairs(pair, list):\n",
    "    pair_count = 0\n",
    "    for mini_list in list:\n",
    "        if pair[0] in mini_list and pair[1] in mini_list:\n",
    "            pair_count += 1\n",
    "\n",
    "    return pair_count\n",
    "\n",
    "models = ['ChatGPT', 'Claude', 'Copilot', 'Gemini', 'Grok']\n",
    "\n",
    "for i in range(len(models)):\n",
    "    for j in range(i, len(models)):\n",
    "        if i != j:\n",
    "            print(models[i],\"and\", models[j], \"appeared together\", count_pairs([models[i], models[j]],survey_responses), \"times\")"
   ]
  }
 ],
 "metadata": {
  "kernelspec": {
   "display_name": ".venv",
   "language": "python",
   "name": "python3"
  },
  "language_info": {
   "codemirror_mode": {
    "name": "ipython",
    "version": 3
   },
   "file_extension": ".py",
   "mimetype": "text/x-python",
   "name": "python",
   "nbconvert_exporter": "python",
   "pygments_lexer": "ipython3",
   "version": "3.13.0"
  }
 },
 "nbformat": 4,
 "nbformat_minor": 4
}
