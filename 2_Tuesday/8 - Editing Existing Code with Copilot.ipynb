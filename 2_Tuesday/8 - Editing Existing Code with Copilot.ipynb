{
 "cells": [
  {
   "cell_type": "markdown",
   "metadata": {},
   "source": [
    "# Editing Existing Code\n",
    "\n",
    "Copilot can be used to edit or add to existing code in a number of useful ways. "
   ]
  },
  {
   "cell_type": "markdown",
   "metadata": {},
   "source": [
    "## Documenting and Commenting Code\n",
    "\n",
    "Properly documenting and commenting code is important for making it understandable and maintainable, particularly if you're collaborating with others, or intend to share your code publicly. It's often a task that programmers choose to put off as it can be time-consuming and tedious. Copilot can help with this by generating comments for you, based on the code you've written.\n",
    "\n",
    "There are many ways you can do this in the interface, but the easiest way is probably to ask in the chat window, using edit or agent mode."
   ]
  },
  {
   "cell_type": "code",
   "execution_count": null,
   "metadata": {},
   "outputs": [],
   "source": [
    "import math\n",
    "\n",
    "def rocket_velocity_change(exhaust_velocity, initial_mass, final_mass):\n",
    "    \"\"\"\n",
    "    Calculate the change in velocity (delta-v) of a rocket using the Tsiolkovsky rocket equation.\n",
    "\n",
    "    Parameters:\n",
    "        exhaust_velocity (float): The effective exhaust velocity of the rocket (m/s).\n",
    "        initial_mass (float): The initial mass of the rocket (kg).\n",
    "        final_mass (float): The final mass of the rocket after burning fuel (kg).\n",
    "\n",
    "    Returns:\n",
    "        float: The change in velocity (delta-v) in m/s.\n",
    "    \"\"\"\n",
    "    return exhaust_velocity * math.log(initial_mass / final_mass)\n",
    "\n",
    "\n",
    "def read_value(filepath, value_name):\n",
    "    \"\"\"\n",
    "    Read a named float value from a file. The file should contain lines in the format:\n",
    "    value_name value\n",
    "\n",
    "    Parameters:\n",
    "        filepath (str): Path to the input file.\n",
    "        value_name (str): The name of the value to search for.\n",
    "\n",
    "    Returns:\n",
    "        float: The value associated with value_name.\n",
    "\n",
    "    Raises:\n",
    "        ValueError: If the value is not found, missing, or not a number.\n",
    "    \"\"\"\n",
    "    with open(filepath, 'r') as f:\n",
    "        for line in f:\n",
    "            if line.startswith(value_name):\n",
    "                try:\n",
    "                    return float(line.split()[1])\n",
    "                except IndexError:\n",
    "                    raise ValueError(f'Value \"{value_name}\" was found in file \"{filepath}\" but no value was found after it')\n",
    "                except ValueError:\n",
    "                    raise ValueError(f'Value \"{value_name}\" was found in file \"{filepath}\" but the value after it was not a number')\n",
    "        else:\n",
    "            raise ValueError(f'Value \"{value_name}\" not found in file \"{filepath}\"')\n",
    "\n",
    "\n",
    "def rocket_velocity_change_from_file(filepath):\n",
    "    \"\"\"\n",
    "    Calculate the rocket velocity change (delta-v) by reading required values from a file.\n",
    "\n",
    "    Parameters:\n",
    "        filepath (str): Path to the input file containing 'exhaust_velocity', 'initial_mass', and 'final_mass'.\n",
    "\n",
    "    Returns:\n",
    "        float: The change in velocity (delta-v) in m/s.\n",
    "    \"\"\"\n",
    "    exhaust_velocity = read_value(filepath, 'exhaust_velocity')\n",
    "    initial_mass = read_value(filepath, 'initial_mass')\n",
    "    final_mass = read_value(filepath, 'final_mass')\n",
    "    return rocket_velocity_change(exhaust_velocity, initial_mass, final_mass)\n",
    "\n",
    "\n",
    "print(rocket_velocity_change_from_file('resources/rocket_input.txt'))\n"
   ]
  },
  {
   "cell_type": "markdown",
   "metadata": {},
   "source": [
    "## Improving Code\n",
    "\n",
    "You can ask Copilot to provide you with suggestions of how to improve a piece of code. You may find this easiest to do in the chat window as it makes follow-up questions easier. You could ask a general question such as \"How can I improve this code?\" or a more specific question such as:\n",
    "* \"How can I make this code more efficient?\" \n",
    "* \"How can I make this code more readable?\"\n",
    "* \"How can I make this code more modular?\"\n",
    "* \"How can I make this code more robust?\"\n",
    "* \"How can I make this code more secure?\"\n",
    "* \"How can I make this function more flexible?\"\n",
    "\n",
    "If Copilot suggests changes that uses constructs or techniques you're not familiar with, you can ask for an explanation of how they work. This can be a great way to learn new programming techniques."
   ]
  },
  {
   "cell_type": "code",
   "execution_count": null,
   "metadata": {},
   "outputs": [],
   "source": [
    "def sum_of_squares(lst):\n",
    "    return sum(value ** 2 for value in lst)"
   ]
  },
  {
   "cell_type": "markdown",
   "metadata": {},
   "source": [
    "## Fixing Code\n",
    "\n",
    "Copilot can also attempt to help you fix errors in your code. You can do this by highlighting code, adding it as context in the chat, then asking for a fix. This will prompt Copilot to generate suggestions for fixing the selected code. You can then choose from the suggestions provided to fix the error. You can also type in a more qualitative message. Here are some tips:\n",
    "\n",
    "* If the code returns an error message, you can describe or include the error message in your prompt to help Copilot understand the problem.\n",
    "* If the code runs but returns the wrong output, you can describe the expected output in your prompt to help Copilot understand the problem.\n",
    "* The more you can localise the problem, the better.\n",
    "* Copilot will be better at fixing code which solves common problems as it will have seen solutions to the problem before.\n",
    "* Copilot is particularly good at suggesting fixes to syntax errors, but may struggle with more complex errors.\n",
    "* Copilot does not know what your code is supposed to do, so it may suggest inappropriate fixes.\n",
    "* If you've commented your code well and used descriptive variable names, Copilot is more likely to understand what you want your code to do and suggest appropriate fixes."
   ]
  },
  {
   "cell_type": "code",
   "execution_count": 2,
   "metadata": {},
   "outputs": [],
   "source": [
    "def get_second_largest_unique_value(lst):\n",
    "    unique_values = set(lst)\n",
    "    if len(unique_values) < 2:\n",
    "        return None\n",
    "    unique_values.remove(max(unique_values))\n",
    "    return max(unique_values)"
   ]
  },
  {
   "cell_type": "markdown",
   "metadata": {},
   "source": [
    "## Exercise\n",
    "\n"
   ]
  },
  {
   "cell_type": "markdown",
   "metadata": {},
   "source": [
    "The code below is a poorly written Python function which intends to interpolate between two points in 2D Cartesian space and find the value at a specified value of $x$. This value of $x$ should be between the $x$ coordinates of the two points. The function should return the $y$ value at the specified $x$ value, using linear interpolation.\n",
    "\n",
    "Use Copilot to:\n",
    "* Document the code.\n",
    "* Fix any errors.\n",
    "* Create some code which calls the function as an example."
   ]
  },
  {
   "cell_type": "code",
   "execution_count": 5,
   "metadata": {},
   "outputs": [
    {
     "name": "stdout",
     "output_type": "stream",
     "text": [
      "Interpolated y at x=2: 2.0\n"
     ]
    }
   ],
   "source": [
    "def linear_interpolation(x1, y1, x2, y2, x):\n",
    "    \"\"\"\n",
    "    Linearly interpolate to find the y value at a given x, between two points (x1, y1) and (x2, y2).\n",
    "\n",
    "    Parameters:\n",
    "        x1 (float): x-coordinate of the first point.\n",
    "        y1 (float): y-coordinate of the first point.\n",
    "        x2 (float): x-coordinate of the second point.\n",
    "        y2 (float): y-coordinate of the second point.\n",
    "        x (float): x value at which to interpolate (must be between x1 and x2, inclusive).\n",
    "\n",
    "    Returns:\n",
    "        float: Interpolated y value at x.\n",
    "\n",
    "    Raises:\n",
    "        ValueError: If x is not between x1 and x2.\n",
    "    \"\"\"\n",
    "    if x < x1 or x > x2:\n",
    "        raise ValueError(f'x value {x} is outside the range [{x1}, {x2}]')\n",
    "\n",
    "    gradient = (y2 - y2) / (x2 - x1)\n",
    "    y_intercept = y1 - gradient * x1\n",
    "    return gradient * x + y_intercept\n",
    "\n",
    "# Example usage:\n",
    "# Interpolate between (1, 2) and (3, 6) at x = 2\n",
    "y = linear_interpolation(1, 2, 3, 6, 2)\n",
    "print(f\"Interpolated y at x=2: {y}\")"
   ]
  }
 ],
 "metadata": {
  "kernelspec": {
   "display_name": ".venv",
   "language": "python",
   "name": "python3"
  },
  "language_info": {
   "codemirror_mode": {
    "name": "ipython",
    "version": 3
   },
   "file_extension": ".py",
   "mimetype": "text/x-python",
   "name": "python",
   "nbconvert_exporter": "python",
   "pygments_lexer": "ipython3",
   "version": "3.13.0"
  }
 },
 "nbformat": 4,
 "nbformat_minor": 2
}
