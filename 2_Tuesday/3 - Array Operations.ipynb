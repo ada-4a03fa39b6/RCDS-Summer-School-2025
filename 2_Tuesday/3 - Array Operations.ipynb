{
 "cells": [
  {
   "cell_type": "markdown",
   "metadata": {
    "id": "euQr57ooLW_e"
   },
   "source": [
    "# Array Operations\n",
    "\n",
    "NumPy is not just good at storing large amounts of data, it's also very efficient at performing calculations and makes carrying out these calculations very convenient. This notebook discusses some of these calculations and the syntax used to invoke them."
   ]
  },
  {
   "cell_type": "markdown",
   "metadata": {
    "id": "u5i0HFbT8wPP"
   },
   "source": [
    "## Arithmetic and Comparison Operations\n",
    "\n",
    "Simple arithmetic and comparison operators can be performed using NumPy arrays. When such an operation is placed between two NumPy arrays, the operation is performed \"element-wise\". This means that the operation is performed on each element of the arrays to create the corresponding element of the new array. For instance:"
   ]
  },
  {
   "cell_type": "code",
   "execution_count": 1,
   "metadata": {
    "id": "JCRxTeXwLS4k"
   },
   "outputs": [
    {
     "name": "stdout",
     "output_type": "stream",
     "text": [
      "Addition:  [ 3  8 13]\n",
      "Subtraction:  [ 1  0 -1]\n",
      "Multiplication:  [ 2 16 42]\n",
      "Division:  [2.         1.         0.85714286]\n",
      "Exponentiation:  [     2    256 279936]\n",
      "Integer Division:  [2 1 0]\n",
      "Modulo:  [0 0 6]\n",
      "Negative:  [-2 -4 -6]\n",
      "Greater Than:  [ True False False]\n",
      "Less Than:  [False False  True]\n",
      "Greater Than or Equal:  [ True  True False]\n",
      "Less Than or Equal:  [False  True  True]\n",
      "Equal:  [False  True False]\n",
      "Not Equal:  [ True False  True]\n"
     ]
    }
   ],
   "source": [
    "import numpy as np\n",
    "\n",
    "a = np.array([2,4,6])\n",
    "b = np.array([1,4,7])\n",
    "\n",
    "print(\"Addition: \", a + b)\n",
    "print(\"Subtraction: \", a - b)\n",
    "print(\"Multiplication: \", a * b)\n",
    "print(\"Division: \", a / b)\n",
    "print(\"Exponentiation: \", a ** b)\n",
    "print(\"Integer Division: \", a // b)\n",
    "print(\"Modulo: \", a % b)\n",
    "print(\"Negative: \", -a)\n",
    "\n",
    "# This is also works with comparison operators\n",
    "print(\"Greater Than: \", a > b)\n",
    "print(\"Less Than: \", a < b)\n",
    "print(\"Greater Than or Equal: \", a >= b)\n",
    "print(\"Less Than or Equal: \", a <= b)\n",
    "print(\"Equal: \", a == b)\n",
    "print(\"Not Equal: \", a != b)"
   ]
  },
  {
   "cell_type": "markdown",
   "metadata": {
    "id": "nHMa3tm6DK-K"
   },
   "source": [
    "## Applying the Same Operation to Every Element\n",
    "\n",
    "It's possible to apply the same operation to every element of an array using an operator and a scalar value. The array and the integer may be in either order."
   ]
  },
  {
   "cell_type": "code",
   "execution_count": 2,
   "metadata": {
    "id": "88r4jziiC78q"
   },
   "outputs": [
    {
     "name": "stdout",
     "output_type": "stream",
     "text": [
      "a:  [1 2 3]\n",
      "Addition:  [3 4 5]\n",
      "Left Subtraction:  [ 1  0 -1]\n",
      "Right Subtraction:  [-1  0  1]\n",
      "Multiplication:  [2 4 6]\n",
      "Left Division:  [0.5 1.  1.5]\n",
      "Right Division:  [2.         1.         0.66666667]\n",
      "Left Exponentiation:  [2 4 8]\n",
      "Right Exponentiation:  [1 4 9]\n",
      "Left Integer Division:  [2 1 0]\n",
      "Right Integer Division:  [0 1 1]\n",
      "Left Modulo:  [0 0 2]\n",
      "Right Modulo:  [1 0 1]\n"
     ]
    }
   ],
   "source": [
    "import numpy as np\n",
    "\n",
    "a = np.arange(1, 4)\n",
    "print(\"a: \", a)\n",
    "print(\"Addition: \", 2 + a)\n",
    "print(\"Left Subtraction: \", 2 - a)\n",
    "print(\"Right Subtraction: \", a - 2)\n",
    "print(\"Multiplication: \", a * 2)\n",
    "print(\"Left Division: \", a / 2)\n",
    "print(\"Right Division: \", 2 / a)\n",
    "print(\"Left Exponentiation: \", 2 ** a)\n",
    "print(\"Right Exponentiation: \", a ** 2)\n",
    "print(\"Left Integer Division: \", 2 // a)\n",
    "print(\"Right Integer Division: \", a // 2)\n",
    "print(\"Left Modulo: \", 2 % a)\n",
    "print(\"Right Modulo: \", a % 2)"
   ]
  },
  {
   "cell_type": "markdown",
   "metadata": {
    "id": "TdepIcpKuhlC"
   },
   "source": [
    "## Exercise\n",
    "\n",
    "Look at the code in the cell below, but don't run it yet. Instead, write down what you think will be printed in each case. Then, run the code and check you get the results you expect."
   ]
  },
  {
   "cell_type": "code",
   "execution_count": 3,
   "metadata": {
    "id": "cPW87SEVu2xR"
   },
   "outputs": [
    {
     "name": "stdout",
     "output_type": "stream",
     "text": [
      "Case 1:  [4 6]\n",
      "Case 2:  [0.5 1. ]\n",
      "Case 3:  [ 1 16]\n",
      "Case 4:  [1 0]\n",
      "Case 5:  [-5 -6]\n"
     ]
    }
   ],
   "source": [
    "import numpy as np\n",
    "\n",
    "a = np.array([1, 2])\n",
    "b = np.array([3, 4])\n",
    "\n",
    "print(\"Case 1: \", a + b)    # [4 6]\n",
    "print(\"Case 2: \", a / 2)    # [0.5 1]\n",
    "print(\"Case 3: \", a ** b)   # [1 16]\n",
    "print(\"Case 4: \", 2 - a)    # [1 0]\n",
    "print(\"Case 5: \", a - b * 2) # Remember the order of operations [-5 -6]"
   ]
  },
  {
   "cell_type": "markdown",
   "metadata": {},
   "source": [
    "## Statistics of Arrays\n",
    "\n",
    "NumPy has a number of built-in functions for performing statistical calculations on arrays. These include:"
   ]
  },
  {
   "cell_type": "code",
   "execution_count": 4,
   "metadata": {},
   "outputs": [
    {
     "name": "stdout",
     "output_type": "stream",
     "text": [
      "a:  [1 4 3 5 2]\n",
      "Sum:  15\n",
      "Minimum:  1\n",
      "Maximum:  5\n",
      "Mean:  3.0\n",
      "Median:  3.0\n",
      "Standard Deviation:  1.4142135623730951\n",
      "Variance:  2.0\n",
      "Range: 4\n"
     ]
    }
   ],
   "source": [
    "import numpy as np\n",
    "\n",
    "a = np.array([1, 4, 3, 5, 2])\n",
    "\n",
    "print(\"a: \", a)\n",
    "print(\"Sum: \", a.sum())\n",
    "print(\"Minimum: \", a.min())\n",
    "print(\"Maximum: \", a.max())\n",
    "print(\"Mean: \", a.mean())\n",
    "print(\"Median: \", np.median(a))\n",
    "print(\"Standard Deviation: \", a.std())\n",
    "print(\"Variance: \", a.var())\n",
    "print(\"Range:\", np.ptp(a))"
   ]
  },
  {
   "cell_type": "markdown",
   "metadata": {},
   "source": [
    "We can also perform useful operations on an array of bools (such as those generated by a comparison operator):"
   ]
  },
  {
   "cell_type": "code",
   "execution_count": 6,
   "metadata": {},
   "outputs": [
    {
     "name": "stdout",
     "output_type": "stream",
     "text": [
      "a:  [ True  True False  True]\n",
      "All:  False\n",
      "Any:  True\n",
      "Number of Trues:  3\n",
      "All less than 10:  True\n"
     ]
    }
   ],
   "source": [
    "a = np.array([True, True, False, True])\n",
    "\n",
    "print(\"a: \", a)\n",
    "print(\"All: \", a.all()) # Will be True if all elements are True\n",
    "print(\"Any: \", a.any()) # Will be True if any elements are True\n",
    "print(\"Number of Trues: \", a.sum()) # For the purposes of a sum, True is 1 and False is 0\n",
    "\n",
    "# We can combine these functions with operators\n",
    "# For example, to check if all elements are less than 10:\n",
    "b = np.array([1, 2, 3, 4])\n",
    "print(\"All less than 10: \", (b < 10).all())\n"
   ]
  },
  {
   "cell_type": "markdown",
   "metadata": {
    "id": "dI0EufaRG5vq"
   },
   "source": [
    "## More Complex Functions\n",
    "\n",
    "Many complex mathematical functions which operate on scalars in Python are available from the ```math``` module, such as the ```sin``` function. These functions will work on NumPy arrays with a size of 1 (and return a scalar), but will not work on larger arrays:"
   ]
  },
  {
   "cell_type": "code",
   "execution_count": 7,
   "metadata": {
    "id": "ujJ6d7hnI2Hb"
   },
   "outputs": [
    {
     "name": "stdout",
     "output_type": "stream",
     "text": [
      "0.9092974268256817\n",
      "0.8414709848078965\n"
     ]
    },
    {
     "name": "stderr",
     "output_type": "stream",
     "text": [
      "/var/folders/rl/c4t61rvn215c9pp0v9xn1fc80000gn/T/ipykernel_2323/280747599.py:5: DeprecationWarning: Conversion of an array with ndim > 0 to a scalar is deprecated, and will error in future. Ensure you extract a single element from your array before performing this operation. (Deprecated NumPy 1.25.)\n",
      "  print(math.sin(np.array([1])))\n"
     ]
    },
    {
     "ename": "TypeError",
     "evalue": "only length-1 arrays can be converted to Python scalars",
     "output_type": "error",
     "traceback": [
      "\u001b[31m---------------------------------------------------------------------------\u001b[39m",
      "\u001b[31mTypeError\u001b[39m                                 Traceback (most recent call last)",
      "\u001b[36mCell\u001b[39m\u001b[36m \u001b[39m\u001b[32mIn[7]\u001b[39m\u001b[32m, line 6\u001b[39m\n\u001b[32m      4\u001b[39m \u001b[38;5;28mprint\u001b[39m(math.sin(\u001b[32m2\u001b[39m))\n\u001b[32m      5\u001b[39m \u001b[38;5;28mprint\u001b[39m(math.sin(np.array([\u001b[32m1\u001b[39m])))\n\u001b[32m----> \u001b[39m\u001b[32m6\u001b[39m \u001b[38;5;28mprint\u001b[39m(\u001b[43mmath\u001b[49m\u001b[43m.\u001b[49m\u001b[43msin\u001b[49m\u001b[43m(\u001b[49m\u001b[43mnp\u001b[49m\u001b[43m.\u001b[49m\u001b[43marange\u001b[49m\u001b[43m(\u001b[49m\u001b[32;43m3\u001b[39;49m\u001b[43m)\u001b[49m\u001b[43m)\u001b[49m)\n",
      "\u001b[31mTypeError\u001b[39m: only length-1 arrays can be converted to Python scalars"
     ]
    }
   ],
   "source": [
    "import numpy as np\n",
    "import math\n",
    "\n",
    "print(math.sin(2))\n",
    "print(math.sin(np.array([1])))\n",
    "print(math.sin(np.arange(3)))"
   ]
  },
  {
   "cell_type": "markdown",
   "metadata": {
    "id": "a9i2LXv0JW-i"
   },
   "source": [
    "Fortunately, many of these functions are replicated within the NumPy array and will operate element-wise on an array passed to it:"
   ]
  },
  {
   "cell_type": "code",
   "execution_count": 8,
   "metadata": {
    "id": "UwkG-8HLDcAK"
   },
   "outputs": [
    {
     "name": "stdout",
     "output_type": "stream",
     "text": [
      "a:  [0.25 0.5  0.75]\n",
      "sin:  [0.24740396 0.47942554 0.68163876]\n",
      "arccos:  [1.31811607 1.04719755 0.72273425]\n",
      "log:  [-1.38629436 -0.69314718 -0.28768207]\n",
      "log2:  [-2.        -1.        -0.4150375]\n",
      "log10:  [-0.60205999 -0.30103    -0.12493874]\n",
      "sqrt:  [0.5        0.70710678 0.8660254 ]\n",
      "sum:  1.5\n"
     ]
    }
   ],
   "source": [
    "import numpy as np\n",
    "\n",
    "# Here we multiply the array [1 2 3] by a quarter\n",
    "a = np.arange(1,4) * 0.25\n",
    "print(\"a: \", a)\n",
    "print(\"sin: \", np.sin(a))\n",
    "print(\"arccos: \", np.arccos(a)) # Note that names are not always the same as in the math module\n",
    "print(\"log: \", np.log(a))\n",
    "print(\"log2: \", np.log2(a))\n",
    "print(\"log10: \", np.log10(a))\n",
    "print(\"sqrt: \", np.sqrt(a))\n",
    "print(\"sum: \", np.sum(a))"
   ]
  },
  {
   "cell_type": "markdown",
   "metadata": {},
   "source": [
    "## Exercise: Heat Pump Energy Usage\n",
    "\n",
    "Domestic heat pumps use electricity to transfer heat from one place to another. In a domestic settings they are usually used to pump heat from the cold outdoors to the warmer indoors. As they capture some of the heat from the outside air, they can be more efficient than traditional electric heating. \n",
    "\n",
    "We're going to do some calculations that will help us understand the power usage of a heat pump throughout a typical day. We will do this by calculating a variety of properties throughout the day. As a result, many values will be stored in a 1-D Numpy array with 24 entries. The first entry in the array will relate to around midnight, the next will relate around 1am, and so on.\n",
    "\n",
    "On a particular day, the external temperature is defined as follows:\n",
    "\n",
    "$$\n",
    "T_{out} = 270 + 10 \\sin\\left(\\frac{\\pi}{12}(t - 6)\\right)\n",
    "$$\n",
    "\n",
    "where:\n",
    "\n",
    "- $T_{out}$ is the outdoor temperature (K)\n",
    "- $t$ is the time in hours (0 for the first hour, 23 for the last hour)\n",
    "\n",
    "$T_{out}$ is measured in units of [Kelvin](https://en.wikipedia.org/wiki/Kelvin).\n",
    "\n",
    "The indoor temperature $T_{in}$ is the temperature that the owners want to maintain. This is a constant value of 293K.\n",
    "\n",
    "In the cell below, complete the code to calculate the indoor and outdoor temperatures and represent them in Numpy arrays. You may include other lines of code before the existing lines if you like. Throughout this exericse, sample solutions can be found in A sample solution can be found in the file [```Sample Solutions/Sample Solutions 3 - Array Operations.ipynb```](Sample%20Solutions/Sample%20Solutions%203%20-%20Array%20Operations.ipynb)"
   ]
  },
  {
   "cell_type": "code",
   "execution_count": 17,
   "metadata": {},
   "outputs": [
    {
     "name": "stdout",
     "output_type": "stream",
     "text": [
      "Outdoor Temperature (K): [260.         260.34074174 261.33974596 262.92893219 265.\n",
      " 267.41180955 270.         272.58819045 275.         277.07106781\n",
      " 278.66025404 279.65925826 280.         279.65925826 278.66025404\n",
      " 277.07106781 275.         272.58819045 270.         267.41180955\n",
      " 265.         262.92893219 261.33974596 260.34074174]\n",
      "Indoor Temperature (K): [293 293 293 293 293 293 293 293 293 293 293 293 293 293 293 293 293 293\n",
      " 293 293 293 293 293 293]\n"
     ]
    }
   ],
   "source": [
    "import numpy as np\n",
    "\n",
    "t = np.arange(24)\n",
    "#print(t)\n",
    "\n",
    "# Exterior temperature (K)\n",
    "t_out = 270 + 10 * np.sin(np.pi/12*(t-6))\n",
    "#print(t_out)\n",
    "\n",
    "# Interior temperature (K)\n",
    "t_in = np.full([24], 293)\n",
    "\n",
    "print(\"Outdoor Temperature (K):\", t_out) # Should be 24 values. First should be 260\n",
    "print(\"Indoor Temperature (K):\", t_in) # Should be 24 values, all 293"
   ]
  },
  {
   "cell_type": "markdown",
   "metadata": {},
   "source": [
    "\n",
    "\n",
    "\n",
    "\n",
    "If we make some approximation, the equation to calculate the heating power from a heat pump is:\n",
    "\n",
    "$$\n",
    "P_{heat} = \\frac{P_{elec}}{\\left(1-\\frac{T_{out}}{T_{in}}\\right)},\n",
    "$$\n",
    "\n",
    "where:\n",
    " - $P_{heat}$ is the heating power (W)\n",
    " - $P_{elec}$ is the electrical power input (W)\n",
    "\n",
    "We can approximate the heat loss from a house as being equal to:\n",
    "\n",
    "$$\n",
    "P_{loss} = UA(T_{in} - T_{out}),\n",
    "$$\n",
    "\n",
    "where:\n",
    "- $P_{loss}$ is the heat loss (W)\n",
    "- $U$ is the overall heat transfer coefficient (W/m²K)\n",
    "- $A$ is the surface area of the house (m²)\n",
    "\n",
    "In winter, to maintain a constant temperature, the heat pump will supply a heating power which equals the heat loss, such that:\n",
    "\n",
    "$$\n",
    "P_{heat} = P_{loss}\n",
    "$$\n",
    "\n",
    "Substituting the expressions for $P_{heat}$ and $P_{loss}$ and rearranging, we find:\n",
    "\n",
    "$$\n",
    "P_{elec} = UA(T_{in} - T_{out})\\left(1-\\frac{T_{out}}{T_{in}}\\right)\n",
    "$$\n",
    "\n",
    "In the cell below the values of $U$ and $A$ have already been defined. Write a Numpy expression to calculate the electrical power usage for each hour of the day. You should use `t_in` and `t_out` from the code cell above in your calculation."
   ]
  },
  {
   "cell_type": "code",
   "execution_count": 19,
   "metadata": {},
   "outputs": [
    {
     "name": "stdout",
     "output_type": "stream",
     "text": [
      "Electrical Power (W) each hour: [743.3447099  728.07314012 684.21275477 617.24854563 535.15358362\n",
      " 446.93207547 361.09215017 284.39724851 221.16040956 173.19514038\n",
      " 140.36062407 121.48490792 115.35836177 121.48490792 140.36062407\n",
      " 173.19514038 221.16040956 284.39724851 361.09215017 446.93207547\n",
      " 535.15358362 617.24854563 684.21275477 728.07314012]\n"
     ]
    }
   ],
   "source": [
    "U = 2  # Heat transfer coefficient (W/m²K)\n",
    "A = 100  # Heat transfer surface area (m²)\n",
    "\n",
    "# Electrical power (W)\n",
    "p_elec =  U * A*(t_in - t_out) * (1 - (t_out/t_in))\n",
    "\n",
    "print(\"Electrical Power (W) each hour:\", p_elec) # Should be 24 values. First should be 743.3-ish"
   ]
  },
  {
   "cell_type": "markdown",
   "metadata": {},
   "source": [
    "To calculate the energy used each hour in units of J, we need to multiply the power usage in each hour by the number of seconds in an hour (3600):\n",
    "\n",
    "$$\n",
    "E_{elec} = 3600 P_{elec}\n",
    "$$\n",
    "\n",
    "where:\n",
    " - $E_{elec}$ is the electrical energy used (J)\n",
    "\n",
    "In the cell below, calculate the energy used in each hour:"
   ]
  },
  {
   "cell_type": "code",
   "execution_count": 20,
   "metadata": {},
   "outputs": [
    {
     "name": "stdout",
     "output_type": "stream",
     "text": [
      "Electrical Energy (J) each hour: [2676040.9556314  2621063.30444771 2463165.91717886 2222094.76426275\n",
      " 1926552.90102389 1608955.47167821 1299931.74061433 1023830.09462732\n",
      "  796177.47440273  623502.50536183  505298.24664367  437345.66849591\n",
      "  415290.10238908  437345.66849591  505298.24664367  623502.50536183\n",
      "  796177.47440273 1023830.09462732 1299931.74061433 1608955.47167821\n",
      " 1926552.90102389 2222094.76426275 2463165.91717886 2621063.30444771]\n"
     ]
    }
   ],
   "source": [
    "# Energy used in each of the 24 1-hour periods (J)\n",
    "e_elec = 3600 * p_elec\n",
    "\n",
    "print(\"Electrical Energy (J) each hour:\", e_elec) # Should be 24 values. First should be 2676040-ish"
   ]
  },
  {
   "cell_type": "markdown",
   "metadata": {},
   "source": [
    "The cost of electricity is 25.73p/kWh. If we convert this to a cost per J, the cost is 0.0000000714 £/J. In the cell below, calculate the total cost of electricity used over the 24-hour period:"
   ]
  },
  {
   "cell_type": "code",
   "execution_count": 21,
   "metadata": {},
   "outputs": [
    {
     "name": "stdout",
     "output_type": "stream",
     "text": [
      "Total 24-hour cost (£): 2.4381077406143334\n"
     ]
    }
   ],
   "source": [
    "# Total 24-hour cost (£)\n",
    "total_cost = e_elec.sum() * 0.0000000714\n",
    "\n",
    "print(\"Total 24-hour cost (£):\", total_cost) # Should be a single value of 2.44-ish"
   ]
  },
  {
   "cell_type": "markdown",
   "metadata": {
    "id": "Oy9u2_oqeaxo"
   },
   "source": [
    "## Extension: Vector and Matrix Operations\n",
    "\n",
    "NumPy is designed to hold vectors, matrices, tensors and so on. It also contains functions to perform common operations relevant to these data types. For instance:"
   ]
  },
  {
   "cell_type": "code",
   "execution_count": 22,
   "metadata": {
    "id": "8_l_TivNHFk3"
   },
   "outputs": [
    {
     "name": "stdout",
     "output_type": "stream",
     "text": [
      "Matrix:  [[0 1]\n",
      " [2 3]]\n",
      "Vector1:  [1 2]\n",
      "Vector2:  [3 4]\n",
      "Dot product 11\n",
      "Matrix-vector multiplication:  [2 8]\n",
      "Matrix-matrix multiplication:  [[ 2  3]\n",
      " [ 6 11]]\n",
      "Matrix power:  [[ 6 11]\n",
      " [22 39]]\n",
      "Determinant:  -2.0\n",
      "Transpose:  [[0 2]\n",
      " [1 3]]\n",
      "Inverse:  [[-1.5  0.5]\n",
      " [ 1.   0. ]]\n",
      "Eigenvectors and eigenvalues:  EigResult(eigenvalues=array([-0.56155281,  3.56155281]), eigenvectors=array([[-0.87192821, -0.27032301],\n",
      "       [ 0.48963374, -0.96276969]]))\n"
     ]
    }
   ],
   "source": [
    "import numpy as np\n",
    "\n",
    "matrix = np.arange(4).reshape([2,2])\n",
    "vector1 = np.array([1,2])\n",
    "vector2 = np.array([3,4])\n",
    "\n",
    "print(\"Matrix: \", matrix)\n",
    "print(\"Vector1: \", vector1)\n",
    "print(\"Vector2: \", vector2)\n",
    "\n",
    "print(\"Dot product\", np.dot(vector1, vector2))\n",
    "print(\"Matrix-vector multiplication: \", np.matmul(matrix, vector1))\n",
    "print(\"Matrix-matrix multiplication: \", np.matmul(matrix, matrix))\n",
    "print(\"Matrix power: \", np.linalg.matrix_power(matrix, 3))\n",
    "print(\"Determinant: \", np.linalg.det(matrix))\n",
    "print(\"Transpose: \", np.transpose(matrix))\n",
    "print(\"Inverse: \", np.linalg.inv(matrix))\n",
    "print(\"Eigenvectors and eigenvalues: \", np.linalg.eig(matrix))"
   ]
  },
  {
   "cell_type": "markdown",
   "metadata": {
    "id": "prYsG9Ssnx5N"
   },
   "source": [
    "## Extension Exercise: Cartesian Coordinates\n",
    "\n",
    "A location in 3d Cartesian space may be represented by (x,y,z) coordinates. This may be represented by a\n",
    "dimension 1 array with size 3.\n",
    "\n",
    "In the cell below:\n",
    "* Create a 1d array with three elements to represent Position A, which is at (1,2,1)\n",
    "* Calculate the location of Position B, which has a displacement of (3,-4,1) from Position A\n",
    "* Calculate the location of Position C, which is twice as far from the origin as Position B\n",
    "* Calculate the location of position D, which is found by rotating position C 45 $^{o}$ around the z axis (clockwise\n",
    "when viewed from above). To rotate a location around the z axis in this manner by an angle $\\theta$ , it may be\n",
    "multiplied by the matrix:\n",
    "$\n",
    "\\begin{pmatrix}\n",
    "\\cos(\\theta) & -\\sin(\\theta) & 0 \\\\ \n",
    "\\sin(\\theta) & \\cos(\\theta) & 0 \\\\ \n",
    "0 & 0 & 1\n",
    "\\end{pmatrix}\n",
    "$\n",
    "* Calculate the straight line distance between Position D and the origin"
   ]
  },
  {
   "cell_type": "code",
   "execution_count": 42,
   "metadata": {
    "id": "lykqChQktPed"
   },
   "outputs": [
    {
     "name": "stdout",
     "output_type": "stream",
     "text": [
      "Location of B is [ 4 -2  2]\n",
      "Location of C is [ 8 -4  4]\n",
      "[[ 0.70710678 -0.70710678  0.        ]\n",
      " [ 0.70710678  0.70710678  0.        ]\n",
      " [ 0.          0.          1.        ]]\n",
      "Location of D is [8.48528137 2.82842712 4.        ]\n",
      "The distance from D to the origin is 9.797958971132713\n"
     ]
    }
   ],
   "source": [
    "import numpy as np\n",
    "a = np.array([1,2,1])\n",
    "\n",
    "# Calculating position of B\n",
    "b = a+np.array([3,-4,1])\n",
    "print(\"Location of B is\", b)\n",
    "\n",
    "# Calculating position of C\n",
    "c = 2*b\n",
    "print(\"Location of C is\", c)\n",
    "\n",
    "# Calculating the position of D\n",
    "\n",
    "ph = np.radians(45)\n",
    "rot_matrix = np.array([np.cos(ph), -np.sin(ph), 0, np.sin(ph), np.cos(ph), 0 , 0 , 0 , 1]).reshape([3,3])   #rotation matrix\n",
    "print(rot_matrix)\n",
    "\n",
    "d = np.matmul(rot_matrix, c)\n",
    "\n",
    "print(\"Location of D is\", d)\n",
    "\n",
    "# Calculating distance to the origin to D\n",
    "d_distance = np.sqrt((d**2).sum())\n",
    "print(\"The distance from D to the origin is\", d_distance)\n",
    "\n"
   ]
  },
  {
   "cell_type": "code",
   "execution_count": 32,
   "metadata": {},
   "outputs": [
    {
     "name": "stdout",
     "output_type": "stream",
     "text": [
      "Position A:  [1 2 1]\n",
      "Position B:  [ 4 -2  2]\n",
      "Position C:  [ 8 -4  4]\n",
      "Rotation matrix:  [[ 0.70710678 -0.70710678  0.        ]\n",
      " [ 0.70710678  0.70710678  0.        ]\n",
      " [ 0.          0.          1.        ]]\n",
      "Position D:  [8.48528137 2.82842712 4.        ]\n",
      "Distance:  9.797958971132713\n"
     ]
    }
   ],
   "source": [
    "# SAMPLE SOLUTION\n",
    "import numpy as np\n",
    "import math\n",
    "\n",
    "# Define Position A\n",
    "pos_a = np.array([1,2,1])\n",
    "print(\"Position A: \", pos_a)\n",
    "\n",
    "# Add the specified displacement to position A to get position B\n",
    "pos_b = pos_a + np.array([3,-4,1])\n",
    "print(\"Position B: \", pos_b)\n",
    "\n",
    "# Double the values in position B to get position C\n",
    "pos_c = pos_b * 2\n",
    "print(\"Position C: \", pos_c)\n",
    "\n",
    "# Calculate 45 degrees in radians\n",
    "radians_45 = 45 * math.pi / 180\n",
    "# Create the rotation matrix\n",
    "rotation_matrix = np.array([[math.cos(radians_45), -math.sin(radians_45), 0], [math.sin(radians_45), math.cos(radians_45), 0], [0,0,1]])\n",
    "print(\"Rotation matrix: \", rotation_matrix)\n",
    "# Operate of position C with the rotation matrix to get position D\n",
    "pos_d = np.matmul(rotation_matrix, pos_c)\n",
    "print(\"Position D: \", pos_d)\n",
    "\n",
    "# Calculate the distance between position D and the origin\n",
    "# Here we use the dot product to calculate x^2 + y^2 + z^2\n",
    "distance_d = math.sqrt(np.dot(pos_d, pos_d))\n",
    "print(\"Distance: \", distance_d)"
   ]
  },
  {
   "cell_type": "markdown",
   "metadata": {},
   "source": [
    "A sample solution can be found in [```Sample Solutions/Sample Solutions 3 - Array Operations.ipynb```](Sample%20Solutions/Sample%20Solutions%203%20-%20Array%20Operations.ipynb)."
   ]
  }
 ],
 "metadata": {
  "colab": {
   "authorship_tag": "ABX9TyOSGsmoKYdTnuz0ywrUaRmc",
   "collapsed_sections": [],
   "name": "Array Operations.ipynb",
   "provenance": []
  },
  "kernelspec": {
   "display_name": ".venv",
   "language": "python",
   "name": "python3"
  },
  "language_info": {
   "codemirror_mode": {
    "name": "ipython",
    "version": 3
   },
   "file_extension": ".py",
   "mimetype": "text/x-python",
   "name": "python",
   "nbconvert_exporter": "python",
   "pygments_lexer": "ipython3",
   "version": "3.13.0"
  }
 },
 "nbformat": 4,
 "nbformat_minor": 1
}
