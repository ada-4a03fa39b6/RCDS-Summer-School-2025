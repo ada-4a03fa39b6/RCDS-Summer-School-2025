{
 "cells": [
  {
   "cell_type": "markdown",
   "metadata": {},
   "source": [
    "# Protein Structure Exercise\n",
    "\n",
    "In this notebook we will use `matplotlib` to investigate some real experimental data."
   ]
  },
  {
   "cell_type": "markdown",
   "metadata": {},
   "source": [
    "Protein structures can be determined by X-ray crystallography experiments and are conventionally recorded as [PDB files](https://en.wikipedia.org/wiki/Protein_Data_Bank_(file_format)), which are structured text files details about the experiment itself, together with the 3D coordinates of each atom within the structure."
   ]
  },
  {
   "cell_type": "markdown",
   "metadata": {},
   "source": [
    "We will work with some data derived from the [1HMP](https://www.rcsb.org/structure/1HMP) structure, namely the dihedral angles, $\\phi$(phi) and $\\psi$(psi), of the carbon backbone.\n",
    "\n",
    "<center><img src=\"../Resources/dihedral.png\" style=\"height:300px\" alt=\"By Dcrjsr, vectorised Adam Rędzikowski - Own work, CC BY 3.0, https://commons.wikimedia.org/w/index.php?curid=24585750\"/></center>\n"
   ]
  },
  {
   "cell_type": "markdown",
   "metadata": {},
   "source": [
    "<div align=right>(Image by Dcrjsr, vectorised Adam Rędzikowski, CC BY 3.0)</div>\n"
   ]
  },
  {
   "cell_type": "markdown",
   "metadata": {},
   "source": [
    "The data have been provided as a plain text file containing two columns of numbers ($\\phi$ and $\\psi$), separated by tabs. There is one row for every $\\text{C}_\\alpha$ (i.e. backbone carbon atom) in the structure.\n",
    "\n",
    "We can easily load the data into a 2-dimensional numpy array as shown:"
   ]
  },
  {
   "cell_type": "code",
   "execution_count": null,
   "metadata": {},
   "outputs": [
    {
     "data": {
      "text/plain": [
       "array([[ -92.926842,   12.941312],\n",
       "       [  65.796807, -162.229709],\n",
       "       [ -81.132082,  121.413022],\n",
       "       [ -85.523806,  137.173724],\n",
       "       [-124.988754,   85.242472],\n",
       "       [ -43.117225,  147.113709],\n",
       "       [ -48.307914,  -29.941388],\n",
       "       [ -88.163884,   -2.348568],\n",
       "       [ -52.848368,  130.047635],\n",
       "       [ -93.401285,   -4.973523]])"
      ]
     },
     "execution_count": 5,
     "metadata": {},
     "output_type": "execute_result"
    }
   ],
   "source": [
    "import numpy as np\n",
    "data = np.loadtxt('Data/1hmp_mmtk.txt')\n",
    "\n",
    "\n",
    "\n",
    "# showing just the first ten rows\n",
    "data[:10,:]"
   ]
  },
  {
   "cell_type": "markdown",
   "metadata": {},
   "source": [
    "### Question: \n",
    "How many $\\text{C}_\\alpha$ atoms are there in this structure?"
   ]
  },
  {
   "cell_type": "code",
   "execution_count": 10,
   "metadata": {},
   "outputs": [
    {
     "name": "stdout",
     "output_type": "stream",
     "text": [
      "419\n"
     ]
    }
   ],
   "source": [
    "print(data.shape[0])"
   ]
  },
  {
   "cell_type": "markdown",
   "metadata": {},
   "source": [
    "---"
   ]
  },
  {
   "cell_type": "markdown",
   "metadata": {},
   "source": [
    "### Task: Summarise the data\n",
    "Calculate summary statistics for the variables $\\phi$ and $\\psi$."
   ]
  },
  {
   "cell_type": "code",
   "execution_count": 21,
   "metadata": {},
   "outputs": [
    {
     "name": "stdout",
     "output_type": "stream",
     "text": [
      "For the first variable the mean is -76.66391544868735, the median is -82.172016, the standard deviation is 55.39218149220189\n",
      "For the 2nd variable the mean is 40.277060840095466, the median is 9.247443, the standard deviation is 90.78675815875744\n"
     ]
    }
   ],
   "source": [
    "# first variable:\n",
    "print(f\"For the first variable the mean is {np.mean(data[:,0])}, the median is {np.median(data[:,0])}, the standard deviation is {np.std(data[:,0], ddof=1)}\")\n",
    "\n",
    "# 2nd variable\n",
    "print(f\"For the 2nd variable the mean is {np.mean(data[:,1])}, the median is {np.median(data[:,1])}, the standard deviation is {np.std(data[:,1], ddof=1)}\")\n"
   ]
  },
  {
   "cell_type": "markdown",
   "metadata": {},
   "source": [
    "---"
   ]
  },
  {
   "cell_type": "markdown",
   "metadata": {},
   "source": [
    "### Task: Visualise the data\n",
    "\n",
    "Find a suitable way to visualise the distributions of $\\phi$ and $\\psi$.\n",
    "\n",
    "Are any of your summary statistics actually useful for this data set?"
   ]
  },
  {
   "cell_type": "code",
   "execution_count": 30,
   "metadata": {},
   "outputs": [
    {
     "data": {
      "image/png": "[encoded data removed]",
      "text/plain": [
       "<Figure size 640x480 with 1 Axes>"
      ]
     },
     "metadata": {},
     "output_type": "display_data"
    }
   ],
   "source": [
    "import matplotlib.pyplot as plt\n",
    "\n",
    "plt.hist(data, label=[\"1\",\"2\"])\n",
    "plt.vlines( np.mean(data[:,0]), 0, 150, colors='blue' )\n",
    "plt.text( np.mean(data[:,0]) + 2, 150, 'mean=' + str(np.mean(data[:,0])), color='blue', fontsize='large')\n",
    "plt.legend()\n",
    "plt.show()"
   ]
  },
  {
   "cell_type": "markdown",
   "metadata": {},
   "source": [
    "---"
   ]
  },
  {
   "cell_type": "markdown",
   "metadata": {},
   "source": [
    "### Task: Joint distribution\n",
    "Use a scatter plot to investigate the relationship between $\\phi$ and $\\psi$"
   ]
  },
  {
   "cell_type": "code",
   "execution_count": null,
   "metadata": {},
   "outputs": [],
   "source": []
  },
  {
   "cell_type": "markdown",
   "metadata": {},
   "source": [
    "### Task: Gaussian mixture model\n",
    "\n",
    "You should see that there are are several distinct \"patches\" of data in the scatter plot. This implies that there are certain combinations of ($\\phi$,$\\psi$) that are preferred by the protein.\n",
    "\n",
    "One potentially useful way to summarise this joint distribution is as a mixture of 2D Gaussian (aka \"Normal\") component distributions. Each component will have its own centre on the 2D $\\phi$-$\\psi$ plane.\n",
    "\n",
    "We can fit a simple three-component [Gaussian mixture model](https://scikit-learn.org/stable/modules/generated/sklearn.mixture.GaussianMixture.html) like this:"
   ]
  },
  {
   "cell_type": "code",
   "execution_count": 184,
   "metadata": {},
   "outputs": [],
   "source": [
    "from sklearn.mixture import GaussianMixture\n",
    "gmm = GaussianMixture(n_components=3, covariance_type='diag', random_state=0).fit(data)"
   ]
  },
  {
   "cell_type": "markdown",
   "metadata": {},
   "source": [
    "The resulting model can report the coordinates of the three component centres:"
   ]
  },
  {
   "cell_type": "code",
   "execution_count": null,
   "metadata": {},
   "outputs": [],
   "source": [
    "gmm.means_"
   ]
  },
  {
   "cell_type": "markdown",
   "metadata": {},
   "source": [
    "And their *variances* in $\\phi$ and $\\psi$:"
   ]
  },
  {
   "cell_type": "code",
   "execution_count": null,
   "metadata": {},
   "outputs": [],
   "source": [
    "gmm.covariances_"
   ]
  },
  {
   "cell_type": "markdown",
   "metadata": {},
   "source": [
    "Can you now redraw the scatter plot, marking the centre of each fitted component and its standard deviation in $\\phi$ and $\\psi$?"
   ]
  },
  {
   "cell_type": "code",
   "execution_count": null,
   "metadata": {},
   "outputs": [],
   "source": []
  },
  {
   "cell_type": "markdown",
   "metadata": {},
   "source": [
    "### Question:\n",
    "How could we improve on this model?"
   ]
  },
  {
   "cell_type": "markdown",
   "metadata": {},
   "source": []
  },
  {
   "cell_type": "markdown",
   "metadata": {},
   "source": [
    "---\n",
    "\n",
    "The general $\\phi$-$\\psi$ scatterplot is known as a [Ramachandran plot](https://en.wikipedia.org/wiki/Ramachandran_plot), describing the energetically favourable dihedral angles that are found in protein structures. - it is very useful for validation of structures that are computed from X-ray crystallography data.\n",
    "\n",
    "Dihedral angle dataset was taken from\n",
    "https://warwick.ac.uk/fac/sci/moac/people/students/peter_cock/r/ramachandran/\n"
   ]
  }
 ],
 "metadata": {
  "kernelspec": {
   "display_name": ".venv",
   "language": "python",
   "name": "python3"
  },
  "language_info": {
   "codemirror_mode": {
    "name": "ipython",
    "version": 3
   },
   "file_extension": ".py",
   "mimetype": "text/x-python",
   "name": "python",
   "nbconvert_exporter": "python",
   "pygments_lexer": "ipython3",
   "version": "3.13.0"
  }
 },
 "nbformat": 4,
 "nbformat_minor": 4
}
